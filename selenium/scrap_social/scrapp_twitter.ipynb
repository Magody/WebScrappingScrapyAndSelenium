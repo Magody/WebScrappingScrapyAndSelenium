{
 "cells": [
  {
   "cell_type": "code",
   "execution_count": 1,
   "metadata": {},
   "outputs": [
    {
     "name": "stderr",
     "output_type": "stream",
     "text": [
      "/home/magody/anaconda3/lib/python3.8/site-packages/requests/__init__.py:89: RequestsDependencyWarning: urllib3 (1.26.7) or chardet (3.0.4) doesn't match a supported version!\n",
      "  warnings.warn(\"urllib3 ({}) or chardet ({}) doesn't match a supported \"\n"
     ]
    }
   ],
   "source": [
    "from ScrapperTwitter import ScrapperTwitter"
   ]
  },
  {
   "cell_type": "code",
   "execution_count": 6,
   "metadata": {},
   "outputs": [
    {
     "name": "stderr",
     "output_type": "stream",
     "text": [
      "/tmp/ipykernel_8657/2258415648.py:33: DeprecationWarning: executable_path has been deprecated, please pass in a Service object\n",
      "  self.driver = webdriver.Chrome(executable_path=path_driver_chrome)\n"
     ]
    },
    {
     "name": "stdout",
     "output_type": "stream",
     "text": [
      "Logged in!\n"
     ]
    }
   ],
   "source": [
    "# Setup and login\n",
    "import json\n",
    "\n",
    "f = open(\".env.json\", \"r\")\n",
    "env = json.load(f)\n",
    "f.close()\n",
    "scrapper = ScrapperTwitter(path_driver_chrome = \"/home/magody/chromedriver_linux64/chromedriver\", smoth=900, wait_smoth=1.5)\n",
    "scrapper.login(env[\"username_twitter\"], env[\"password_twitter\"],control_unusual=True)\n",
    "scrapper.driver.get(\"https://twitter.com/lumie_lumie\") # warm, check that twitter knows we are logged in\n",
    "scrapper.wait(5)"
   ]
  },
  {
   "cell_type": "code",
   "execution_count": 7,
   "metadata": {},
   "outputs": [
    {
     "name": "stdout",
     "output_type": "stream",
     "text": [
      "Images:422,Videos:40\n",
      "Downloading images...\n"
     ]
    },
    {
     "data": {
      "application/vnd.jupyter.widget-view+json": {
       "model_id": "631c4ab4f8ab46989ce97ede9c7286f9",
       "version_major": 2,
       "version_minor": 0
      },
      "text/plain": [
       "HBox(children=(HTML(value=''), FloatProgress(value=0.0, max=422.0), HTML(value='')))"
      ]
     },
     "metadata": {},
     "output_type": "display_data"
    },
    {
     "name": "stdout",
     "output_type": "stream",
     "text": [
      "\n",
      "Downloading videos...\n"
     ]
    },
    {
     "data": {
      "application/vnd.jupyter.widget-view+json": {
       "model_id": "2de103f535b846c79fc70d967e7492c2",
       "version_major": 2,
       "version_minor": 0
      },
      "text/plain": [
       "HBox(children=(HTML(value=''), FloatProgress(value=0.0, max=40.0), HTML(value='')))"
      ]
     },
     "metadata": {},
     "output_type": "display_data"
    },
    {
     "name": "stdout",
     "output_type": "stream",
     "text": [
      "\n"
     ]
    }
   ],
   "source": [
    "import os\n",
    "users = [\n",
    "    \"lumie_lumie\"\n",
    "]\n",
    "\n",
    "with open(\"errors.txt\", \"w\") as f:\n",
    "    for i,user in enumerate(users):\n",
    "        print(f\"User: {i+1} of {len(users)}\", user)\n",
    "        dir_output = f\"temp/{user}\"\n",
    "        os.mkdir(os.path.join(dir_output))\n",
    "        results = scrapper.scrape_profile(f\"https://twitter.com/{user}\", dir_output)\n",
    "        if len(results[\"errors\"]) > 0:\n",
    "            f.writelines(list(map(lambda s: s+\"\\n\", results[\"errors\"])))\n",
    "            "
   ]
  },
  {
   "cell_type": "code",
   "execution_count": 8,
   "metadata": {},
   "outputs": [],
   "source": [
    "# end session\n",
    "scrapper.close()"
   ]
  },
  {
   "cell_type": "code",
   "execution_count": null,
   "metadata": {},
   "outputs": [],
   "source": [
    "# (Optional/Situational): To not do login again and again, restore state\n",
    "driver = scrapper.driver\n",
    "scrapper.restarting = True\n",
    "scrapper = ScrapperTwitter(start=False)\n",
    "scrapper.logged_in = True\n",
    "scrapper.driver = driver"
   ]
  }
 ],
 "metadata": {
  "interpreter": {
   "hash": "a3c2402a762b1da2b664ca9cbb9344946d41b73132102685c4db1aa6c02b5b44"
  },
  "kernelspec": {
   "display_name": "Python 3.8.5 64-bit ('base': conda)",
   "language": "python",
   "name": "python3"
  },
  "language_info": {
   "codemirror_mode": {
    "name": "ipython",
    "version": 3
   },
   "file_extension": ".py",
   "mimetype": "text/x-python",
   "name": "python",
   "nbconvert_exporter": "python",
   "pygments_lexer": "ipython3",
   "version": "3.8.5"
  },
  "orig_nbformat": 4
 },
 "nbformat": 4,
 "nbformat_minor": 2
}

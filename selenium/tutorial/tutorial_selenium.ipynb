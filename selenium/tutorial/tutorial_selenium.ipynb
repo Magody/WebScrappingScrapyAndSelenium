{
 "cells": [
  {
   "cell_type": "code",
   "execution_count": 2,
   "metadata": {},
   "outputs": [],
   "source": [
    "# relevant packages & modules\n",
    "from selenium import webdriver\n",
    "from selenium.webdriver.common.keys import Keys\n",
    "from selenium.webdriver.common.by import By\n",
    "from selenium.webdriver.chrome.options import Options\n",
    "import time"
   ]
  },
  {
   "cell_type": "code",
   "execution_count": 6,
   "metadata": {},
   "outputs": [
    {
     "name": "stderr",
     "output_type": "stream",
     "text": [
      "/tmp/ipykernel_15449/858352383.py:6: DeprecationWarning: executable_path has been deprecated, please pass in a Service object\n",
      "  driver = webdriver.Chrome(path_driver_chrome)\n"
     ]
    }
   ],
   "source": [
    "# relevant websites\n",
    "website_1 = 'https://www.geekbuying.com/search?keyword=laptop'\n",
    "website_2 = 'http://automationpractice.com/index.php'\n",
    "# initialize Chrome\n",
    "path_driver_chrome = \"/home/magody/chromedriver_linux64/chromedriver\"\n",
    "driver = webdriver.Chrome(path_driver_chrome)\n",
    "# open website\n",
    "driver.get(website_1)\n",
    "# maximize window\n",
    "# driver.maximize_window()"
   ]
  },
  {
   "cell_type": "code",
   "execution_count": 12,
   "metadata": {},
   "outputs": [],
   "source": [
    "price = driver.find_element(By.XPATH, '(//li[@class=\"searchResultItem\"]/div/div[3])[1]')\n",
    "prices = driver.find_elements(By.XPATH, '//li[@class=\"searchResultItem\"]/div/div[3]')\n",
    "names = driver.find_elements(By.CLASS_NAME, 'name')"
   ]
  },
  {
   "cell_type": "code",
   "execution_count": 16,
   "metadata": {},
   "outputs": [
    {
     "name": "stdout",
     "output_type": "stream",
     "text": [
      "$365.99\n",
      "40 ['$365.99', '$73.99', '$14.99', '$16.99']\n",
      "40\n"
     ]
    }
   ],
   "source": [
    "print(price.text)\n",
    "print(len(prices), [p.text for p in prices[0:4]])\n",
    "print(len(names))"
   ]
  },
  {
   "cell_type": "code",
   "execution_count": 17,
   "metadata": {},
   "outputs": [],
   "source": [
    "driver.get(website_2)\n",
    "time.sleep(1)"
   ]
  },
  {
   "cell_type": "code",
   "execution_count": 18,
   "metadata": {},
   "outputs": [],
   "source": [
    "search = driver.find_element(By.ID, 'search_query_top')\n",
    "search.click()\n",
    "time.sleep(1)\n",
    "search.send_keys('hellohello')"
   ]
  },
  {
   "cell_type": "code",
   "execution_count": 20,
   "metadata": {},
   "outputs": [],
   "source": [
    "search_button = driver.find_element(By.NAME, 'submit_search')\n",
    "search_button.click()"
   ]
  },
  {
   "cell_type": "code",
   "execution_count": 22,
   "metadata": {},
   "outputs": [
    {
     "name": "stdout",
     "output_type": "stream",
     "text": [
      "<selenium.webdriver.remote.webelement.WebElement (session=\"b4e9ba5eb48a4bfcffb9f0504f193d9b\", element=\"f6da2f5d-ecde-4c10-88fe-f335d4a2b354\")> <selenium.webdriver.remote.webelement.WebElement (session=\"b4e9ba5eb48a4bfcffb9f0504f193d9b\", element=\"f6da2f5d-ecde-4c10-88fe-f335d4a2b354\")>\n"
     ]
    }
   ],
   "source": [
    "contact = driver.find_element(By.LINK_TEXT, 'Contact us')\n",
    "contact2 = driver.find_element(By.PARTIAL_LINK_TEXT, 'tact u')\n",
    "print(contact, contact2)"
   ]
  },
  {
   "cell_type": "code",
   "execution_count": 23,
   "metadata": {},
   "outputs": [],
   "source": [
    "# close driver at the end\n",
    "driver.close()"
   ]
  },
  {
   "cell_type": "markdown",
   "metadata": {},
   "source": [
    "# Run headless in one step"
   ]
  },
  {
   "cell_type": "code",
   "execution_count": 24,
   "metadata": {},
   "outputs": [
    {
     "name": "stderr",
     "output_type": "stream",
     "text": [
      "/tmp/ipykernel_15449/3065839756.py:5: DeprecationWarning: executable_path has been deprecated, please pass in a Service object\n",
      "  driver=webdriver.Chrome(executable_path=path_driver_chrome, options=chrome_options )\n"
     ]
    },
    {
     "name": "stdout",
     "output_type": "stream",
     "text": [
      "Website was opened\n",
      "A text was typed inside the search bar\n",
      "Search Request was submitted\n",
      "Go back to Initial Page\n",
      "<selenium.webdriver.remote.webelement.WebElement (session=\"217a28d37341a219a08d0757250eb60f\", element=\"db7b0928-10b5-42e7-af93-ebed1c83c35f\")>\n",
      "Contact Us button was clicked using the Link Text Locator\n",
      "Driver was closed\n"
     ]
    }
   ],
   "source": [
    "chrome_options = Options()\n",
    "chrome_options.add_argument('--headless')\n",
    "\n",
    "# open website\n",
    "driver=webdriver.Chrome(executable_path=path_driver_chrome, options=chrome_options )\n",
    "driver.get(website_2)\n",
    "time.sleep(1)\n",
    "\n",
    "print('Website was opened')\n",
    "\n",
    "\n",
    "#send keys and click on button\n",
    "search = driver.find_element(By.ID, 'search_query_top')\n",
    "search.click()\n",
    "time.sleep(1)\n",
    "\n",
    "# type a text inside the search bar\n",
    "search.send_keys('hello')\n",
    "time.sleep(1)\n",
    "\n",
    "print('A text was typed inside the search bar')\n",
    "\n",
    "# submit your search request\n",
    "search_button = driver.find_element(By.NAME, 'submit_search')\n",
    "search_button.click()\n",
    "\n",
    "print('Search Request was submitted')\n",
    "\n",
    "#go back\n",
    "driver.back()\n",
    "time.sleep(1)\n",
    "\n",
    "print('Go back to Initial Page')\n",
    "\n",
    "# click Contact us - Link Text Locator\n",
    "contact_us = driver.find_element(By.LINK_TEXT, 'Contact us')\n",
    "contact_us.click()\n",
    "time.sleep(1)\n",
    "\n",
    "print(contact_us)\n",
    "print('Contact Us button was clicked using the Link Text Locator')\n",
    "\n",
    "# close driver at the end\n",
    "driver.close()\n",
    "\n",
    "print('Driver was closed')"
   ]
  },
  {
   "cell_type": "code",
   "execution_count": null,
   "metadata": {},
   "outputs": [],
   "source": []
  }
 ],
 "metadata": {
  "interpreter": {
   "hash": "a3c2402a762b1da2b664ca9cbb9344946d41b73132102685c4db1aa6c02b5b44"
  },
  "kernelspec": {
   "display_name": "Python 3.8.5 64-bit ('base': conda)",
   "language": "python",
   "name": "python3"
  },
  "language_info": {
   "codemirror_mode": {
    "name": "ipython",
    "version": 3
   },
   "file_extension": ".py",
   "mimetype": "text/x-python",
   "name": "python",
   "nbconvert_exporter": "python",
   "pygments_lexer": "ipython3",
   "version": "3.8.5"
  },
  "orig_nbformat": 4
 },
 "nbformat": 4,
 "nbformat_minor": 2
}
